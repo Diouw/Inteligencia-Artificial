{
  "cells": [
    {
      "attachments": {},
      "cell_type": "markdown",
      "id": "26464cc5",
      "metadata": {
        "id": "26464cc5"
      },
      "source": [
        "### Algoritmo Genetico: Função seno \n",
        "\n",
        "Exemplo $f(x) = sen(10x)+1$\n",
        "\n",
        "\n",
        "**Observação:**\n",
        "* Utiliza a técnica de elitismo considerando os $k$ últimos melhores indivíduos da população."
      ]
    },
    {
      "cell_type": "code",
      "execution_count": 37,
      "id": "3gYQJRtuG7q4",
      "metadata": {
        "id": "3gYQJRtuG7q4"
      },
      "outputs": [],
      "source": [
        "# genetic algorithm search for continuous function optimization\n",
        "from numpy.random import randint\n",
        "from numpy.random import rand\n",
        "from math import * "
      ]
    },
    {
      "cell_type": "code",
      "execution_count": 38,
      "id": "shpKRhH2cyGQ",
      "metadata": {
        "id": "shpKRhH2cyGQ"
      },
      "outputs": [],
      "source": [
        "# objective function\n",
        "def objective(n_bits, bitstring):  \n",
        "  # convert bitstring to a string of chars\n",
        "  chars = ''.join([str(s) for s in bitstring])     \n",
        "  # convert string to integer (decimal base)\n",
        "  integer = int(chars, 2)\n",
        "  x = -1 + (integer/(pow(2,n_bits)-1))*(2+1)\n",
        "  y = x*sin((10*pi*x))+1            \n",
        "  return y"
      ]
    },
    {
      "cell_type": "code",
      "execution_count": 39,
      "id": "ja-57Mr0OUF8",
      "metadata": {
        "id": "ja-57Mr0OUF8"
      },
      "outputs": [],
      "source": [
        "# tournament selection\n",
        "def selection(pop, k):\n",
        "\t# first random selection\n",
        "\tselection_ix = randint(len(pop))\n",
        "\tfor ix in randint(0, len(pop), k-1):\n",
        "\t\t# check if better (e.g. perform a tournament)\n",
        "\t\tif pop[ix][1] > pop[selection_ix][1]:\n",
        "\t\t\tselection_ix = ix\n",
        "\treturn pop[selection_ix][0]"
      ]
    },
    {
      "cell_type": "code",
      "execution_count": 40,
      "id": "xDlnBm1qOUCE",
      "metadata": {
        "id": "xDlnBm1qOUCE"
      },
      "outputs": [],
      "source": [
        "# crossover two parents to create two children\n",
        "def crossover(p1, p2, r_cross):\n",
        "\t# children are copies of parents by default\n",
        "\tc1, c2 = p1.copy(), p2.copy()\n",
        "\t# check for recombination\n",
        "\tif rand() < r_cross:\n",
        "\t\t# select crossover point that is not on the end of the string\n",
        "\t\tpt = randint(1, len(p1)-1)\t\t\n",
        "\t\t# perform crossover\n",
        "\t\tc1 = p1[:pt] + p2[pt:]\n",
        "\t\tc2 = p2[:pt] + p1[pt:]\n",
        "\treturn [c1, c2]"
      ]
    },
    {
      "cell_type": "code",
      "execution_count": 41,
      "id": "720N0tKhOT2U",
      "metadata": {
        "id": "720N0tKhOT2U"
      },
      "outputs": [],
      "source": [
        "# mutation operator\n",
        "def mutation(bitstring, r_mut):\n",
        "\tfor i in range(len(bitstring)):\n",
        "\t\t# check for a mutation\n",
        "\t\tif rand() < r_mut:\n",
        "\t\t\t# flip the bit\n",
        "\t\t\tbitstring[i] = 1 - bitstring[i]"
      ]
    },
    {
      "cell_type": "code",
      "execution_count": 42,
      "id": "Qs4DkmA0OnJp",
      "metadata": {
        "id": "Qs4DkmA0OnJp"
      },
      "outputs": [],
      "source": [
        "# apply elitism with numeber of solutions > 1\n",
        "def elitism(pop, best_ind, sizeBits):\n",
        "  # evaluate all candidates in the new population\n",
        "  scores = [objective(sizeBits, p) for p in pop]\n",
        "\t# Create a temp Pop with updated fitness\n",
        "  newPop = []  \n",
        "  for i in zip(pop,scores):\n",
        "      newPop.append(list(i))\n",
        "\n",
        "  #Concatenate Pop with best individuals saved before\n",
        "  newPop = newPop + best_ind\n",
        "  # Sort from best to worst\n",
        "  newPop.sort(key = lambda newPop: newPop[:][1], reverse = True)\n",
        "  # Remove the worst solutions from newPop\n",
        "  newPop = newPop[:-(len(best_ind))]\n",
        "  # Return only bits (without fitness) >> Pattern of encoding \n",
        "  pop.clear() #Use the same data structure\n",
        "  for i in newPop:\n",
        "    pop.append(i[0])  \n",
        "  return pop"
      ]
    },
    {
      "cell_type": "code",
      "execution_count": 43,
      "id": "h_TuxGd4qgwZ",
      "metadata": {
        "id": "h_TuxGd4qgwZ"
      },
      "outputs": [],
      "source": [
        "# Save in a new list (copyBest) the sizeInd best individuals\n",
        "def saveBestInd(pop,sizeInd):\n",
        "  copyBest = []\n",
        "  pop.sort(key = lambda pop: pop[:][1], reverse=True)\n",
        "  copyBest = pop[:sizeInd].copy()\n",
        "  return copyBest"
      ]
    },
    {
      "cell_type": "code",
      "execution_count": 44,
      "id": "6K3oXDE8J7fJ",
      "metadata": {
        "id": "6K3oXDE8J7fJ"
      },
      "outputs": [],
      "source": [
        "def bestSolution(pop):\n",
        "    pop.sort(key = lambda pop: pop[:][1], reverse=True)\n",
        "    return pop[0][0],pop[0][1]"
      ]
    },
    {
      "cell_type": "code",
      "execution_count": 45,
      "id": "x2aUXfZxGemj",
      "metadata": {
        "id": "x2aUXfZxGemj"
      },
      "outputs": [],
      "source": [
        "# genetic algorithm procedure\n",
        "def genetic_algorithm(n_bits, n_iter, n_pop, r_cross, r_mut, k, sizeBestInd, optimalSol):\n",
        "\t# Pop: data structure used:\n",
        "\t##### index [0] -> number of bits (0,1)\n",
        "\t##### index [1] -> fitness\n",
        "\tpop = []\n",
        "\t# eltism procedure\n",
        "\tbestInd = []\n",
        "  # initial temp population with random bitstring\n",
        "\ttempPop = [randint(0, 2, n_bits).tolist() for _ in range(n_pop)]\t\n",
        "\t# enumerate generations\n",
        "\tfor gen in range(n_iter):\n",
        "\t\t\t# evaluate all candidates in the population\n",
        "\t\t\tscores = [objective(n_bits, p) for p in tempPop]\n",
        "\t\t\t# Concatenate with pop\n",
        "\t\t\tfor i in zip(tempPop,scores):\n",
        "\t\t\t\tpop.append(list(i))          \n",
        "\t\t  # keep track of best solution\n",
        "\t\t\tind, best_eval = bestSolution(pop)\n",
        "\t\t\tprint(\"Geração: \",gen,\" Ind: \",ind,\" Fit: \",best_eval)\n",
        "\t\t\t# Check if optimal is find\n",
        "\t\t\tif best_eval >= optimalSol:\n",
        "\t\t\t\tprint(\">>>>>> Melhor solução geração: %d\" % gen)\n",
        "\t\t\t\tprint(\">>>>>> \",ind,\" - \",best_eval)\n",
        "\t\t\t\tbreak\t\t\t\n",
        "\t\t\t# Apply elitism (Save the k best individuals)\n",
        "\t\t\tbestInd = saveBestInd(pop, sizeBestInd)\t\t\t\t\t\n",
        "\t\t\t# select parents\n",
        "\t\t\tselected = [selection(pop, k) for _ in range(n_pop)]\n",
        "\t\t\t# create the next generation\n",
        "\t\t\tchildren = []\n",
        "\t\t\t# Current pop will be empty\n",
        "\t\t\tpop.clear()\n",
        "\t\t\tfor i in range(0, n_pop, 2):\n",
        "\t\t\t\t# get selected parents in pairs\n",
        "\t\t\t\tp1, p2 = selected[i], selected[i+1]\n",
        "\t\t\t\t# crossover and mutation\n",
        "\t\t\t\tfor c in crossover(p1, p2, r_cross):\n",
        "\t\t\t\t\t# mutation\n",
        "\t\t\t\t\tmutation(c, r_mut)\n",
        "\t\t\t\t\t# store for next generation\n",
        "\t\t\t\t\tchildren.append(c)\n",
        "\t\t\t# replace population\n",
        "\t\t\ttempPop = children\n",
        "\t\t\t# Update the final population with elitism\n",
        "\t\t\ttempPop = elitism(tempPop, bestInd, n_bits)\t\t\t\n",
        "\treturn tempPop"
      ]
    },
    {
      "cell_type": "code",
      "execution_count": 50,
      "id": "S9iezNU3HGU1",
      "metadata": {
        "colab": {
          "base_uri": "https://localhost:8080/"
        },
        "id": "S9iezNU3HGU1",
        "outputId": "16a6f2d6-d91e-4729-a811-ab7730f69c50"
      },
      "outputs": [
        {
          "name": "stdout",
          "output_type": "stream",
          "text": [
            "Geração:  0  Ind:  [1, 1, 1, 1, 0, 0, 1, 1, 0, 1, 1, 0, 0, 1, 0, 1, 1, 1, 1, 1, 0, 0]  Fit:  2.8473916477781724\n",
            "Geração:  1  Ind:  [1, 1, 1, 1, 0, 0, 1, 1, 0, 1, 1, 0, 0, 1, 0, 1, 1, 1, 1, 1, 0, 0]  Fit:  2.8473916477781724\n",
            "Geração:  2  Ind:  [1, 1, 1, 1, 0, 0, 1, 1, 0, 1, 1, 0, 0, 1, 0, 1, 1, 1, 1, 1, 0, 0]  Fit:  2.8473916477781724\n",
            "Geração:  3  Ind:  [1, 1, 1, 1, 0, 0, 1, 1, 0, 1, 1, 0, 0, 1, 0, 1, 1, 1, 1, 1, 0, 0]  Fit:  2.8473916477781724\n",
            "Geração:  4  Ind:  [1, 1, 1, 1, 0, 0, 1, 1, 0, 1, 1, 0, 0, 1, 0, 1, 1, 1, 1, 1, 0, 0]  Fit:  2.8473916477781724\n",
            "Geração:  5  Ind:  [1, 1, 1, 1, 0, 0, 1, 1, 0, 1, 1, 0, 0, 1, 0, 1, 1, 1, 1, 1, 0, 0]  Fit:  2.8473916477781724\n",
            "Geração:  6  Ind:  [1, 1, 1, 1, 0, 0, 1, 1, 0, 1, 1, 0, 0, 1, 0, 1, 1, 1, 1, 1, 0, 0]  Fit:  2.8473916477781724\n",
            "Geração:  7  Ind:  [1, 1, 1, 1, 0, 0, 1, 1, 0, 1, 1, 0, 0, 1, 0, 0, 1, 1, 0, 1, 0, 0]  Fit:  2.8475563982552057\n",
            "Geração:  8  Ind:  [1, 1, 1, 1, 0, 0, 1, 1, 0, 1, 1, 0, 0, 1, 0, 0, 1, 1, 0, 1, 0, 0]  Fit:  2.8475563982552057\n",
            "Geração:  9  Ind:  [1, 1, 1, 1, 0, 0, 1, 1, 0, 1, 1, 0, 0, 1, 0, 0, 1, 1, 0, 1, 0, 0]  Fit:  2.8475563982552057\n",
            "Geração:  10  Ind:  [1, 1, 1, 1, 0, 0, 1, 1, 0, 1, 1, 0, 0, 1, 0, 0, 1, 1, 0, 1, 0, 0]  Fit:  2.8475563982552057\n",
            "Geração:  11  Ind:  [1, 1, 1, 1, 0, 0, 1, 1, 0, 1, 1, 0, 0, 1, 0, 0, 1, 1, 0, 1, 0, 0]  Fit:  2.8475563982552057\n",
            "Geração:  12  Ind:  [1, 1, 1, 1, 0, 0, 1, 1, 0, 1, 1, 0, 0, 1, 0, 0, 1, 1, 0, 1, 0, 0]  Fit:  2.8475563982552057\n",
            "Geração:  13  Ind:  [1, 1, 1, 1, 0, 0, 1, 1, 0, 1, 1, 0, 0, 1, 0, 0, 1, 1, 0, 1, 0, 0]  Fit:  2.8475563982552057\n",
            "Geração:  14  Ind:  [1, 1, 1, 1, 0, 0, 1, 1, 0, 1, 1, 0, 0, 1, 0, 0, 1, 1, 0, 1, 0, 0]  Fit:  2.8475563982552057\n",
            "Geração:  15  Ind:  [1, 1, 1, 1, 0, 0, 1, 1, 0, 1, 1, 0, 0, 1, 0, 0, 1, 1, 0, 1, 0, 0]  Fit:  2.8475563982552057\n",
            "Geração:  16  Ind:  [1, 1, 1, 1, 0, 0, 1, 1, 0, 1, 1, 0, 0, 1, 0, 0, 1, 1, 0, 1, 0, 0]  Fit:  2.8475563982552057\n",
            "Geração:  17  Ind:  [1, 1, 1, 1, 0, 0, 1, 1, 0, 1, 1, 0, 0, 1, 0, 0, 1, 1, 0, 1, 0, 0]  Fit:  2.8475563982552057\n",
            "Geração:  18  Ind:  [1, 1, 1, 1, 0, 0, 1, 1, 0, 1, 1, 0, 0, 1, 0, 0, 1, 1, 0, 1, 0, 0]  Fit:  2.8475563982552057\n",
            "Geração:  19  Ind:  [1, 1, 1, 1, 0, 0, 1, 1, 0, 1, 1, 0, 0, 1, 0, 0, 1, 1, 0, 1, 0, 0]  Fit:  2.8475563982552057\n",
            "Geração:  20  Ind:  [1, 1, 1, 1, 0, 0, 1, 1, 0, 1, 1, 0, 0, 1, 0, 0, 1, 1, 0, 1, 0, 0]  Fit:  2.8475563982552057\n",
            "Geração:  21  Ind:  [1, 1, 1, 1, 0, 0, 1, 1, 0, 1, 1, 0, 0, 1, 0, 0, 0, 0, 0, 1, 1, 1]  Fit:  2.847656905503611\n",
            "Geração:  22  Ind:  [1, 1, 1, 1, 0, 0, 1, 1, 0, 1, 1, 0, 0, 1, 0, 0, 0, 0, 0, 1, 1, 1]  Fit:  2.847656905503611\n",
            "Geração:  23  Ind:  [1, 1, 1, 1, 0, 0, 1, 1, 0, 1, 1, 0, 0, 1, 0, 0, 0, 0, 0, 1, 0, 1]  Fit:  2.847661328539294\n",
            "Geração:  24  Ind:  [1, 1, 1, 1, 0, 0, 1, 1, 0, 0, 1, 1, 0, 1, 0, 1, 0, 0, 0, 1, 0, 1]  Fit:  2.8500797978769787\n",
            "Geração:  25  Ind:  [1, 1, 1, 1, 0, 0, 1, 1, 0, 0, 1, 1, 0, 1, 0, 1, 0, 0, 0, 1, 0, 1]  Fit:  2.8500797978769787\n",
            "Geração:  26  Ind:  [1, 1, 1, 1, 0, 0, 1, 1, 0, 0, 1, 1, 0, 1, 0, 1, 0, 0, 0, 1, 0, 1]  Fit:  2.8500797978769787\n",
            "Geração:  27  Ind:  [1, 1, 1, 1, 0, 0, 1, 1, 0, 0, 1, 1, 0, 1, 0, 1, 0, 0, 0, 1, 0, 1]  Fit:  2.8500797978769787\n",
            "Geração:  28  Ind:  [1, 1, 1, 1, 0, 0, 1, 1, 0, 0, 1, 1, 0, 1, 0, 1, 0, 0, 1, 1, 1, 1]  Fit:  2.8500857719814965\n",
            "Geração:  29  Ind:  [1, 1, 1, 1, 0, 0, 1, 1, 0, 0, 1, 1, 0, 1, 0, 1, 0, 0, 1, 1, 1, 1]  Fit:  2.8500857719814965\n",
            "Geração:  30  Ind:  [1, 1, 1, 1, 0, 0, 1, 1, 0, 0, 1, 1, 0, 1, 0, 1, 0, 0, 1, 1, 1, 1]  Fit:  2.8500857719814965\n",
            "Geração:  31  Ind:  [1, 1, 1, 1, 0, 0, 1, 1, 0, 0, 1, 1, 0, 1, 0, 1, 0, 0, 1, 1, 1, 1]  Fit:  2.8500857719814965\n",
            "Geração:  32  Ind:  [1, 1, 1, 1, 0, 0, 1, 1, 0, 0, 1, 1, 0, 1, 0, 1, 0, 0, 1, 1, 1, 1]  Fit:  2.8500857719814965\n",
            "Geração:  33  Ind:  [1, 1, 1, 1, 0, 0, 1, 1, 0, 0, 1, 1, 0, 1, 0, 1, 0, 0, 1, 1, 1, 1]  Fit:  2.8500857719814965\n",
            "Geração:  34  Ind:  [1, 1, 1, 1, 0, 0, 1, 1, 0, 0, 1, 1, 0, 1, 0, 1, 0, 0, 1, 1, 1, 1]  Fit:  2.8500857719814965\n",
            "Geração:  35  Ind:  [1, 1, 1, 1, 0, 0, 1, 1, 0, 0, 1, 1, 0, 1, 0, 1, 0, 0, 1, 1, 1, 1]  Fit:  2.8500857719814965\n",
            "Geração:  36  Ind:  [1, 1, 1, 1, 0, 0, 1, 1, 0, 0, 1, 1, 0, 1, 0, 1, 0, 0, 1, 1, 1, 1]  Fit:  2.8500857719814965\n",
            "Geração:  37  Ind:  [1, 1, 1, 1, 0, 0, 1, 1, 0, 0, 1, 1, 0, 1, 0, 1, 0, 0, 1, 1, 1, 1]  Fit:  2.8500857719814965\n",
            "Geração:  38  Ind:  [1, 1, 1, 1, 0, 0, 1, 1, 0, 0, 1, 1, 0, 1, 0, 1, 0, 0, 1, 1, 1, 1]  Fit:  2.8500857719814965\n",
            "Geração:  39  Ind:  [1, 1, 1, 1, 0, 0, 1, 1, 0, 0, 1, 1, 0, 1, 0, 1, 0, 0, 1, 1, 1, 1]  Fit:  2.8500857719814965\n",
            "Geração:  40  Ind:  [1, 1, 1, 1, 0, 0, 1, 1, 0, 0, 1, 1, 0, 1, 0, 1, 0, 0, 1, 1, 1, 1]  Fit:  2.8500857719814965\n",
            "Geração:  41  Ind:  [1, 1, 1, 1, 0, 0, 1, 1, 0, 0, 1, 1, 1, 1, 0, 1, 1, 1, 1, 1, 0, 0]  Fit:  2.8502709766782024\n",
            ">>>>>> Melhor solução geração: 41\n",
            ">>>>>>  [1, 1, 1, 1, 0, 0, 1, 1, 0, 0, 1, 1, 1, 1, 0, 1, 1, 1, 1, 1, 0, 0]  -  2.8502709766782024\n",
            "População Final:\n",
            "([1, 1, 1, 1, 0, 0, 1, 1, 0, 0, 1, 1, 1, 1, 0, 1, 1, 1, 1, 1, 0, 0], 2.8502709766782024)\n",
            "([1, 1, 1, 1, 0, 0, 1, 1, 0, 0, 1, 1, 0, 1, 0, 1, 0, 0, 1, 1, 1, 1], 2.8500857719814965)\n",
            "([1, 1, 1, 1, 0, 0, 1, 1, 0, 0, 0, 1, 0, 1, 0, 1, 0, 0, 1, 1, 0, 1], 2.846909397952802)\n",
            "([0, 1, 1, 1, 0, 0, 1, 1, 0, 1, 1, 1, 0, 1, 0, 1, 1, 1, 1, 1, 1, 1], 0.6485699723192373)\n"
          ]
        }
      ],
      "source": [
        "# define the total iterations\n",
        "n_iter = 50\n",
        "# bits per variable\n",
        "n_bits = 22\n",
        "# define the population size\n",
        "n_pop = 4\n",
        "# crossover rate\n",
        "r_cross = 0.9\n",
        "# mutation rate\n",
        "r_mut = 0.2\n",
        "# tornament selection k\n",
        "k = 3\n",
        "# optimal x value\n",
        "x = 2.85027\n",
        "# elistism size\n",
        "elt = 1\n",
        "# perform the genetic algorithm search\n",
        "pop = genetic_algorithm(n_bits, n_iter, n_pop, r_cross, r_mut, k, elt,x)\n",
        "# evaluate all candidates in the population\n",
        "scores = [objective(n_bits, p) for p in pop]\n",
        "# Concatenate pop and scores\n",
        "print(\"População Final:\")\n",
        "for i in zip(pop,scores):\n",
        "    print(i)"
      ]
    }
  ],
  "metadata": {
    "colab": {
      "provenance": []
    },
    "kernelspec": {
      "display_name": "IA",
      "language": "python",
      "name": "ia"
    },
    "language_info": {
      "codemirror_mode": {
        "name": "ipython",
        "version": 3
      },
      "file_extension": ".py",
      "mimetype": "text/x-python",
      "name": "python",
      "nbconvert_exporter": "python",
      "pygments_lexer": "ipython3",
      "version": "3.10.4"
    }
  },
  "nbformat": 4,
  "nbformat_minor": 5
}

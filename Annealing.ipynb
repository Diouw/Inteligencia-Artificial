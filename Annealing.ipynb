{
  "cells": [
    {
      "cell_type": "code",
      "execution_count": 2,
      "metadata": {
        "id": "c44a-rHDIx1A"
      },
      "outputs": [],
      "source": [
        "import random\n",
        "from random import shuffle\n",
        "from random import randint\n",
        "import numpy as np\n",
        "import matplotlib.pyplot as plt\n",
        "import seaborn as sns\n",
        "import math"
      ]
    },
    {
      "cell_type": "code",
      "execution_count": 3,
      "metadata": {
        "id": "-gaaOT_wI5yY"
      },
      "outputs": [],
      "source": [
        "#board graphic based on the solution\n",
        "def board(solution): \n",
        "    matrix = np.zeros([len(solution),len(solution)], dtype=int)\n",
        "    matrix = matrix.tolist()\n",
        "    for item in solution:\n",
        "        for i in range(len(solution)):\n",
        "            if i == item:\n",
        "                for j in range(len(solution)):\n",
        "                    if  j == solution.index(item):\n",
        "                        matrix[i][j] = 1\n",
        "                        \n",
        "    l =[]\n",
        "    for i in range(1, len(solution)+1):\n",
        "        l.append(i)\n",
        "    \n",
        "    plt.figure(figsize=(5,5))\n",
        "    sns.heatmap(matrix, linewidths=.8,cbar=False,cmap='Set3',xticklabels=l,yticklabels=l)\n"
      ]
    },
    {
      "cell_type": "code",
      "execution_count": 4,
      "metadata": {
        "id": "fbzzIFqEI_0a"
      },
      "outputs": [],
      "source": [
        "#number of attacks\n",
        "def evaluation(state):\n",
        "    h = 0                \n",
        "    #check for diagonal attacks\n",
        "    for i in range(0, len(state)):\n",
        "        for j in range(0, len(state)):\n",
        "            if j > i:\n",
        "               if abs(i - j) == abs(state[i] - state[j]):\n",
        "                  h += 1\n",
        "                  #Evaluate each column for detecting attacks\n",
        "               if abs(state[i] - state[j]) == 0:\n",
        "                  h += 1 \n",
        "    return h\n",
        "    \n",
        "def neighbor(state): #returns the best neighbor\n",
        "    # Dictionary with all possible solution for each queen\n",
        "    neighbors = {}\n",
        "    #print(self.state)\n",
        "    for i in range(0, len(state)):\n",
        "        #print(i)\n",
        "        for j in range(0, len(state)):\n",
        "            #print(\"%d %d\" % (i,j))\n",
        "            if j != state[i]:\n",
        "                 temp = state.copy()                 \n",
        "                 temp[i] = j\n",
        "                 #print(temp)\n",
        "                 #Generate a new solution list (state)                 \n",
        "                 #Evaluate the number of attacks (heuristic) for each new state\n",
        "                 neighbors[(i, j)] = evaluation(temp) #list of neighbors' evaluation value\n",
        "        \n",
        "    best_neighbors = {} #Store the best heuristic\n",
        "    best_h = evaluation(state) #assign current state evaluation to the best evaluation\n",
        "        \n",
        "    #Iterate dict itens (i,j)\n",
        "    # Where i is the key and h the value (number of attacks)\n",
        "    for i, h in neighbors.items():\n",
        "        #check if there is a better state than the current state\n",
        "        if h < best_h: \n",
        "           best_h = h\n",
        "           if len(best_neighbors) > 0:\n",
        "              # reset the dictionary if a better h is found\n",
        "              best_neighbors.clear()\n",
        "           best_neighbors[i] = best_h\n",
        "        if h == best_h:                \n",
        "           best_neighbors[i] = best_h\n",
        "\n",
        "    #if there are more than one better solution then choose one of them randomly\n",
        "    # It is also possible to choose in a greedy way\n",
        "    if len(best_neighbors.keys()) > 0: \n",
        "       random_index = random.randint(0, len(best_neighbors.keys()) - 1)\n",
        "       list_neighbors = list(best_neighbors.keys())\n",
        "       state[list_neighbors[random_index][0]] = list_neighbors[random_index][1]\n",
        "\n",
        "    return state "
      ]
    },
    {
      "cell_type": "code",
      "execution_count": 5,
      "metadata": {
        "id": "qXLtUMN4JAXD"
      },
      "outputs": [],
      "source": [
        "#ANNEALING\n",
        "def annealing (state, alpha, t0, max):\n",
        "  iter=0\n",
        "  t = t0\n",
        "  while(t > 0.001):\n",
        "    \n",
        "    while (iter<max):\n",
        "      iter+= 1\n",
        "      #copiar o valor do state p/ s1\n",
        "      s1= state.copy()\n",
        "      #mudar aleatoriamente o s1\n",
        "      shuffle(s1)\n",
        "\n",
        "      #comparação entre o state e o aleatorio\n",
        "      delta = evaluation(s1)-evaluation(state)\n",
        "      if(delta < 0):\n",
        "        state = s1\n",
        "      else:\n",
        "        x = random.random()\n",
        "        if(x < pow(math.e,(-delta/t))):\n",
        "          state = s1\n",
        "\n",
        "    t = t*alpha\n",
        "    iter=0\n",
        "  return state \n",
        "\n",
        "\n"
      ]
    },
    {
      "cell_type": "code",
      "execution_count": null,
      "metadata": {
        "id": "Scmpr0JXJO9_"
      },
      "outputs": [],
      "source": [
        "#teste p/ verificar o melhor alpha, t0 e num max\n",
        "while True:\n",
        "  state = list(range(8))\n",
        "  random.shuffle(state)\n",
        "  print(state)\n",
        "\n",
        "  #argumentos -> state alpha t0 max\n",
        "  # 0.1 e 10 são 4 vezes o num max\n",
        "  # 4 * 800 = 3200\n",
        "  #solution = annealing(state, 0.1, 10, 800)\n",
        "\n",
        "\n",
        "  # 1 * 3000 = 3000\n",
        "  solution = annealing(state, 0.1, 0.01, 3000)\n",
        "\n",
        "  #solution = annealing(state, 0.1, 1000000000000000000000000000, 100)\n",
        "  print(\"Solução Final: \",solution,\" - ataques: \",evaluation(solution))\n",
        "\n",
        "  if(evaluation(solution)!= 0):\n",
        "    break"
      ]
    },
    {
      "cell_type": "code",
      "execution_count": 12,
      "metadata": {
        "colab": {
          "base_uri": "https://localhost:8080/",
          "height": 908
        },
        "id": "Jsy90wpsJQQ_",
        "outputId": "259b13b2-92d3-4fc3-a104-9834527b77ed"
      },
      "outputs": [
        {
          "name": "stdout",
          "output_type": "stream",
          "text": [
            "[6, 7, 4, 5, 1, 2, 3, 0]\n",
            "Solução Final:  [3, 7, 4, 2, 0, 6, 1, 5]  - ataques:  0\n"
          ]
        },
        {
          "data": {
            "image/png": "[encoded data removed]",
            "text/plain": [
              "<Figure size 500x500 with 1 Axes>"
            ]
          },
          "metadata": {},
          "output_type": "display_data"
        },
        {
          "data": {
            "image/png": "[encoded data removed]",
            "text/plain": [
              "<Figure size 500x500 with 1 Axes>"
            ]
          },
          "metadata": {},
          "output_type": "display_data"
        }
      ],
      "source": [
        "#Final\n",
        "state = list(range(8))\n",
        "random.shuffle(state)\n",
        "print(state)\n",
        "board(state)\n",
        "solution = annealing(state, 0.1, 0.01, 3000)\n",
        "print(\"Solução Final: \",solution,\" - ataques: \",evaluation(solution))\n",
        "board(solution)"
      ]
    }
  ],
  "metadata": {
    "colab": {
      "provenance": []
    },
    "kernelspec": {
      "display_name": "Python 3",
      "name": "python3"
    },
    "language_info": {
      "name": "python"
    }
  },
  "nbformat": 4,
  "nbformat_minor": 0
}

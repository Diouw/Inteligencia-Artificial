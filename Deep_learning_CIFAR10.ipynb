{
  "cells": [
    {
      "cell_type": "code",
      "execution_count": 1,
      "metadata": {
        "id": "UwVvGjGPRPir"
      },
      "outputs": [],
      "source": [
        "# Importação das bibliotecas\n",
        "import matplotlib.pyplot as plt\n",
        "from keras.models import Sequential\n",
        "from keras.layers import Dense, Dropout, Flatten\n",
        "from keras.layers import Conv2D, MaxPooling2D\n",
        "from keras.utils import np_utils\n",
        "import numpy as np\n",
        "from sklearn.metrics import accuracy_score\n",
        "from keras.datasets import cifar10"
      ]
    },
    {
      "cell_type": "code",
      "execution_count": 3,
      "metadata": {
        "colab": {
          "base_uri": "https://localhost:8080/",
          "height": 482
        },
        "id": "F4ex4KJgRPit",
        "outputId": "3fd84513-b81d-4398-81f8-f2b3531be87d"
      },
      "outputs": [
        {
          "name": "stdout",
          "output_type": "stream",
          "text": [
            "Downloading data from https://www.cs.toronto.edu/~kriz/cifar-10-python.tar.gz\n",
            "170498071/170498071 [==============================] - 3s 0us/step\n"
          ]
        },
        {
          "data": {
            "text/plain": [
              "<matplotlib.image.AxesImage at 0x7fcae1c286a0>"
            ]
          },
          "execution_count": 3,
          "metadata": {},
          "output_type": "execute_result"
        },
        {
          "data": {
            "image/png": "[encoded data removed]",
            "text/plain": [
              "<Figure size 640x480 with 1 Axes>"
            ]
          },
          "metadata": {},
          "output_type": "display_data"
        }
      ],
      "source": [
        "# Obtenção dos dados e divisão automática entre treinamento e teste\n",
        "(X_treinamento, y_treinamento), (X_teste, y_teste) = cifar10.load_data()\n",
        "# Visualização de imagens específicas\n",
        "plt.imshow(X_treinamento[2], cmap = 'gray')"
      ]
    },
    {
      "cell_type": "code",
      "execution_count": 4,
      "metadata": {
        "colab": {
          "base_uri": "https://localhost:8080/"
        },
        "id": "mKvrdf8VrqVl",
        "outputId": "62fb10e3-4590-40cd-b1ff-e2f4da7c44e9"
      },
      "outputs": [
        {
          "data": {
            "text/plain": [
              "(50000, 32, 32, 3)"
            ]
          },
          "execution_count": 4,
          "metadata": {},
          "output_type": "execute_result"
        }
      ],
      "source": [
        "X_treinamento.shape"
      ]
    },
    {
      "cell_type": "code",
      "execution_count": 5,
      "metadata": {
        "colab": {
          "base_uri": "https://localhost:8080/"
        },
        "id": "eQqxovfrryjW",
        "outputId": "e484e660-028d-4cb1-ce05-df59f19d037c"
      },
      "outputs": [
        {
          "data": {
            "text/plain": [
              "(10000, 32, 32, 3)"
            ]
          },
          "execution_count": 5,
          "metadata": {},
          "output_type": "execute_result"
        }
      ],
      "source": [
        "X_teste.shape"
      ]
    },
    {
      "cell_type": "code",
      "execution_count": 6,
      "metadata": {
        "colab": {
          "base_uri": "https://localhost:8080/"
        },
        "id": "Pr_cf1DGsdH3",
        "outputId": "8c20361e-6ed6-4d93-bc26-d07b1af9ad86"
      },
      "outputs": [
        {
          "data": {
            "text/plain": [
              "(32, 32, 3)"
            ]
          },
          "execution_count": 6,
          "metadata": {},
          "output_type": "execute_result"
        }
      ],
      "source": [
        "X_treinamento.shape[1:]"
      ]
    },
    {
      "cell_type": "code",
      "execution_count": 7,
      "metadata": {
        "colab": {
          "base_uri": "https://localhost:8080/"
        },
        "id": "AwYxS_H1tB7l",
        "outputId": "ada51796-840d-4b70-891f-4108e7f67992"
      },
      "outputs": [
        {
          "data": {
            "text/plain": [
              "50000"
            ]
          },
          "execution_count": 7,
          "metadata": {},
          "output_type": "execute_result"
        }
      ],
      "source": [
        "len(X_treinamento)"
      ]
    },
    {
      "cell_type": "code",
      "execution_count": 8,
      "metadata": {
        "colab": {
          "base_uri": "https://localhost:8080/"
        },
        "id": "HBpN9gDItOeO",
        "outputId": "a1772276-df2f-402f-c131-dbbf48677e2f"
      },
      "outputs": [
        {
          "data": {
            "text/plain": [
              "3072"
            ]
          },
          "execution_count": 8,
          "metadata": {},
          "output_type": "execute_result"
        }
      ],
      "source": [
        "np.prod(X_treinamento.shape[1:])"
      ]
    },
    {
      "cell_type": "code",
      "execution_count": 9,
      "metadata": {
        "id": "ODl1HtmGRPit"
      },
      "outputs": [],
      "source": [
        "# Transformação dos dados para float para podermos normalizar os dados\n",
        "X_treinamento = X_treinamento.astype('float32')\n",
        "X_teste = X_teste.astype('float32')"
      ]
    },
    {
      "cell_type": "code",
      "execution_count": 10,
      "metadata": {
        "id": "HM2B7ZcFRPit"
      },
      "outputs": [],
      "source": [
        "# Normalização (255 é o valor máximo de um pixel)\n",
        "X_treinamento /= 255\n",
        "X_teste /= 255"
      ]
    },
    {
      "cell_type": "code",
      "execution_count": 11,
      "metadata": {
        "colab": {
          "base_uri": "https://localhost:8080/"
        },
        "id": "HkpBpthHRPiu",
        "outputId": "5ca5b51f-dacd-4420-875e-20b39c8405ab"
      },
      "outputs": [
        {
          "data": {
            "text/plain": [
              "array([0., 0., 0., 1., 0., 0., 0., 0., 0., 0.], dtype=float32)"
            ]
          },
          "execution_count": 11,
          "metadata": {},
          "output_type": "execute_result"
        }
      ],
      "source": [
        "# Transformação para o formato dummy (temos 10 classes)\n",
        "y_treinamento = np_utils.to_categorical(y_treinamento, 10)\n",
        "y_teste = np_utils.to_categorical(y_teste, 10)\n",
        "y_teste[0]"
      ]
    },
    {
      "cell_type": "code",
      "execution_count": 18,
      "metadata": {
        "id": "tjA2M_amXLFu"
      },
      "outputs": [],
      "source": [
        "modelo = Sequential()\n",
        "modelo.add(Conv2D(32, (5,5), activation='relu', padding='same', input_shape=(32, 32,3)))\n",
        "modelo.add(MaxPooling2D(pool_size=(2,2)))\n",
        "modelo.add(Dropout(0.25))\n",
        "modelo.add(Flatten())\n",
        "modelo.add(Dense(128, activation='relu'))\n",
        "modelo.add(Dropout(0.5))\n",
        "modelo.add(Dense(10, activation='softmax'))"
      ]
    },
    {
      "cell_type": "code",
      "execution_count": 16,
      "metadata": {
        "colab": {
          "base_uri": "https://localhost:8080/"
        },
        "id": "729-maxPRPiu",
        "outputId": "c835b22d-e848-430c-bd16-a578c7b8287e"
      },
      "outputs": [
        {
          "name": "stdout",
          "output_type": "stream",
          "text": [
            "Model: \"sequential_1\"\n",
            "_________________________________________________________________\n",
            " Layer (type)                Output Shape              Param #   \n",
            "=================================================================\n",
            " conv2d_1 (Conv2D)           (None, 32, 32, 32)        2432      \n",
            "                                                                 \n",
            "=================================================================\n",
            "Total params: 2,432\n",
            "Trainable params: 2,432\n",
            "Non-trainable params: 0\n",
            "_________________________________________________________________\n"
          ]
        }
      ],
      "source": [
        "# Visualização da estrutura da rede neural\n",
        "modelo.summary()"
      ]
    },
    {
      "cell_type": "code",
      "execution_count": 19,
      "metadata": {
        "colab": {
          "base_uri": "https://localhost:8080/"
        },
        "id": "2F9M78onRPiu",
        "outputId": "cee1d38c-7368-4706-cfed-1b771057bc9e"
      },
      "outputs": [
        {
          "name": "stdout",
          "output_type": "stream",
          "text": [
            "Epoch 1/5\n",
            "1563/1563 [==============================] - 87s 55ms/step - loss: 1.6815 - accuracy: 0.3888 - val_loss: 1.3841 - val_accuracy: 0.5082\n",
            "Epoch 2/5\n",
            "1563/1563 [==============================] - 87s 56ms/step - loss: 1.4444 - accuracy: 0.4805 - val_loss: 1.2275 - val_accuracy: 0.5634\n",
            "Epoch 3/5\n",
            "1563/1563 [==============================] - 87s 55ms/step - loss: 1.3490 - accuracy: 0.5143 - val_loss: 1.1800 - val_accuracy: 0.5884\n",
            "Epoch 4/5\n",
            "1563/1563 [==============================] - 86s 55ms/step - loss: 1.2900 - accuracy: 0.5395 - val_loss: 1.1462 - val_accuracy: 0.6012\n",
            "Epoch 5/5\n",
            "1563/1563 [==============================] - 87s 56ms/step - loss: 1.2563 - accuracy: 0.5482 - val_loss: 1.1185 - val_accuracy: 0.6065\n"
          ]
        }
      ],
      "source": [
        "# Configuração dos parâmetros da rede neural e treinamento (utilizando base de dados de validação)\n",
        "# Na variável historico temos os histórico das execuções (erro e accuracy)\n",
        "modelo.compile(optimizer = 'adam', loss = 'categorical_crossentropy',\n",
        "               metrics = ['accuracy'])\n",
        "historico = modelo.fit(X_treinamento, y_treinamento, epochs = 5,\n",
        "                       validation_data = (X_teste, y_teste))"
      ]
    },
    {
      "cell_type": "code",
      "execution_count": 20,
      "metadata": {
        "colab": {
          "base_uri": "https://localhost:8080/",
          "height": 447
        },
        "id": "_8XoFst8RPiv",
        "outputId": "c0fedd9d-abe5-44dc-f0e9-23732a44abd1"
      },
      "outputs": [
        {
          "data": {
            "text/plain": [
              "[<matplotlib.lines.Line2D at 0x7fcadbdd8f70>]"
            ]
          },
          "execution_count": 20,
          "metadata": {},
          "output_type": "execute_result"
        },
        {
          "data": {
            "image/png": "[encoded data removed]",
            "text/plain": [
              "<Figure size 640x480 with 1 Axes>"
            ]
          },
          "metadata": {},
          "output_type": "display_data"
        }
      ],
      "source": [
        "# Gráfico para visualizar os erros e accuracy\n",
        "historico.history.keys()\n",
        "#evolução do erro, azul\n",
        "plt.plot(historico.history['accuracy'])\n",
        "#performance da rede\n",
        "plt.plot(historico.history['val_accuracy'])"
      ]
    },
    {
      "cell_type": "code",
      "execution_count": 21,
      "metadata": {
        "colab": {
          "base_uri": "https://localhost:8080/"
        },
        "id": "aWwg5ItYRPiv",
        "outputId": "d086849f-2e1a-4270-fa1c-8cbac8023f2f"
      },
      "outputs": [
        {
          "name": "stdout",
          "output_type": "stream",
          "text": [
            "313/313 [==============================] - 4s 13ms/step\n"
          ]
        }
      ],
      "source": [
        "# Obtenção das previsões \n",
        "y_pred = modelo.predict(X_teste)\n",
        "y_pred = (y_pred > 0.5).astype(int)"
      ]
    },
    {
      "cell_type": "code",
      "execution_count": 23,
      "metadata": {
        "colab": {
          "base_uri": "https://localhost:8080/"
        },
        "id": "r9bgOYLHRPiw",
        "outputId": "2a052de7-d26d-4bb7-d1c6-2e25f33109a0"
      },
      "outputs": [
        {
          "data": {
            "text/plain": [
              "0.4045"
            ]
          },
          "execution_count": 23,
          "metadata": {},
          "output_type": "execute_result"
        }
      ],
      "source": [
        "accuracy_score(y_teste,y_pred)"
      ]
    },
    {
      "cell_type": "code",
      "execution_count": 29,
      "metadata": {
        "id": "JJKiGIh9fcjq"
      },
      "outputs": [],
      "source": [
        "modelo2 = Sequential()\n",
        "modelo2.add(Conv2D(64, (5,5), activation='relu', padding='same'))\n",
        "modelo2.add(MaxPooling2D(pool_size=(2,2)))\n",
        "modelo2.add(Dropout(0.25))\n",
        "modelo2.add(Flatten())\n",
        "modelo2.add(Dense(128, activation='relu'))\n",
        "modelo2.add(Dropout(0.5))\n",
        "modelo2.add(Dense(10, activation='softmax'))"
      ]
    },
    {
      "cell_type": "code",
      "execution_count": 31,
      "metadata": {
        "colab": {
          "base_uri": "https://localhost:8080/"
        },
        "id": "G9TGy49hfplu",
        "outputId": "00d63947-b0f4-4b0b-c304-67a07ea3fdee"
      },
      "outputs": [
        {
          "name": "stdout",
          "output_type": "stream",
          "text": [
            "Epoch 1/5\n",
            "1563/1563 [==============================] - 140s 89ms/step - loss: 1.6593 - accuracy: 0.3983 - val_loss: 1.3217 - val_accuracy: 0.5304\n",
            "Epoch 2/5\n",
            "1563/1563 [==============================] - 134s 86ms/step - loss: 1.4187 - accuracy: 0.4905 - val_loss: 1.2741 - val_accuracy: 0.5456\n",
            "Epoch 3/5\n",
            "1563/1563 [==============================] - 131s 84ms/step - loss: 1.3177 - accuracy: 0.5290 - val_loss: 1.2187 - val_accuracy: 0.5832\n",
            "Epoch 4/5\n",
            "1563/1563 [==============================] - 134s 86ms/step - loss: 1.2593 - accuracy: 0.5483 - val_loss: 1.1629 - val_accuracy: 0.5960\n",
            "Epoch 5/5\n",
            "1563/1563 [==============================] - 145s 92ms/step - loss: 1.2142 - accuracy: 0.5665 - val_loss: 1.0775 - val_accuracy: 0.6216\n"
          ]
        }
      ],
      "source": [
        "# Configuração dos parâmetros da rede neural e treinamento (utilizando base de dados de validação)\n",
        "# Na variável historico temos os histórico das execuções (erro e accuracy)\n",
        "modelo2.compile(optimizer = 'adam', loss = 'categorical_crossentropy',\n",
        "               metrics = ['accuracy'])\n",
        "historico = modelo2.fit(X_treinamento, y_treinamento, epochs = 5,\n",
        "                       validation_data = (X_teste, y_teste))"
      ]
    },
    {
      "cell_type": "code",
      "execution_count": 32,
      "metadata": {
        "colab": {
          "base_uri": "https://localhost:8080/",
          "height": 447
        },
        "id": "4MIr_H3XjDVU",
        "outputId": "2010fd84-4ddf-4c4d-a812-3f92395686a5"
      },
      "outputs": [
        {
          "data": {
            "text/plain": [
              "[<matplotlib.lines.Line2D at 0x7fcad88bf2e0>]"
            ]
          },
          "execution_count": 32,
          "metadata": {},
          "output_type": "execute_result"
        },
        {
          "data": {
            "image/png": "[encoded data removed]",
            "text/plain": [
              "<Figure size 640x480 with 1 Axes>"
            ]
          },
          "metadata": {},
          "output_type": "display_data"
        }
      ],
      "source": [
        "# Gráfico para visualizar os erros e accuracy\n",
        "historico.history.keys()\n",
        "#evolução do erro, azul\n",
        "plt.plot(historico.history['accuracy'])\n",
        "#performance da rede\n",
        "plt.plot(historico.history['val_accuracy'])"
      ]
    },
    {
      "cell_type": "code",
      "execution_count": 38,
      "metadata": {
        "colab": {
          "base_uri": "https://localhost:8080/"
        },
        "id": "_4ijza3mjIgd",
        "outputId": "e05d66b0-447d-416e-8fe4-e185f87d8852"
      },
      "outputs": [
        {
          "name": "stdout",
          "output_type": "stream",
          "text": [
            "313/313 [==============================] - 7s 22ms/step\n"
          ]
        }
      ],
      "source": [
        "# Obtenção das previsões \n",
        "y_pred = modelo2.predict(X_teste)\n",
        "y_pred = (y_pred > 0.5).astype(int)"
      ]
    },
    {
      "cell_type": "code",
      "execution_count": 39,
      "metadata": {
        "colab": {
          "base_uri": "https://localhost:8080/"
        },
        "id": "Og_uCxb2jMgE",
        "outputId": "b4d29332-5039-4830-e376-9e53a2bd90b1"
      },
      "outputs": [
        {
          "data": {
            "text/plain": [
              "0.4169"
            ]
          },
          "execution_count": 39,
          "metadata": {},
          "output_type": "execute_result"
        }
      ],
      "source": [
        "accuracy_score(y_teste,y_pred)"
      ]
    }
  ],
  "metadata": {
    "colab": {
      "provenance": []
    },
    "jupytext": {
      "cell_metadata_filter": "-all",
      "main_language": "python",
      "notebook_metadata_filter": "-all"
    },
    "kernelspec": {
      "display_name": "Python 3",
      "language": "python",
      "name": "python3"
    },
    "language_info": {
      "codemirror_mode": {
        "name": "ipython",
        "version": 3
      },
      "file_extension": ".py",
      "mimetype": "text/x-python",
      "name": "python",
      "nbconvert_exporter": "python",
      "pygments_lexer": "ipython3",
      "version": "3.7.6"
    }
  },
  "nbformat": 4,
  "nbformat_minor": 0
}

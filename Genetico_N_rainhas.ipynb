{
  "cells": [
    {
      "attachments": {},
      "cell_type": "markdown",
      "metadata": {
        "id": "ZmE_eTT-7L_w"
      },
      "source": [
        "# **Projeto Algoritmos Genéticos**\n",
        "## Problema N-rainhas\n",
        "### - Posicionar as *N* rainhas no tabuleiro sem que uma elimine a outra, ou seja, as peças não podem estar na mesma linha, coluna ou diagonal.\n",
        "### - Especificações:\n",
        "\n",
        "\n",
        "*   Quantidade de rainhas\n",
        "*   Taxas: Mutação e Cruzamento\n",
        "*   Tamanhos: população, eletismo e seleção\n",
        "*   Critério de parada: Número de iterações e ou solução ótima\n",
        "\n",
        "\n",
        "\n",
        "\n"
      ]
    },
    {
      "cell_type": "code",
      "execution_count": 1,
      "metadata": {
        "id": "EONlAxWCntgf"
      },
      "outputs": [],
      "source": [
        "import random\n",
        "from numpy.random import randint\n",
        "from numpy.random import rand"
      ]
    },
    {
      "cell_type": "code",
      "execution_count": 2,
      "metadata": {
        "id": "p1-uyi0etGIT"
      },
      "outputs": [],
      "source": [
        "#População gerada aleatoriamente\n",
        "# size: tamanho do cromossomo\n",
        "def random_chromosome(size):\n",
        "    return [random.randint(1, size) for _ in range(size)]"
      ]
    },
    {
      "cell_type": "code",
      "execution_count": 3,
      "metadata": {
        "id": "ioyfS9VFtJPD"
      },
      "outputs": [],
      "source": [
        "# Geração de valores aleatórios para teste\n",
        "# individual: Um cromossomo qualquer da população\n",
        "# Função objetivo: número de pares de rainhas não-atacantes\n",
        "# Exemplo: 8 rainhas \n",
        "# min = 0, max = 8 x 7/2 = 28\n",
        "def fitness(individual):\n",
        "    #FORMULA DE ATAQUES (COMBINAÇÃO SIMPLES DE 2 EM 2)\n",
        "    h = len(individual)*(len(individual)-1)/2              \n",
        "    #conferir se tem ataques na diagonal\n",
        "    #primeiro FOR segura a coluna e o segundo percorre p fazer as combinações\n",
        "    for i in range(0, len(individual)):\n",
        "        for j in range(0, len(individual)):\n",
        "            if j > i:\n",
        "               if abs(i - j) == abs(individual[i] - individual[j]):\n",
        "                  h -= 1\n",
        "                  #conferir se tem ataques na horizontal\n",
        "               if abs(individual[i] - individual[j]) == 0:\n",
        "                  h -= 1 \n",
        "    return h "
      ]
    },
    {
      "cell_type": "code",
      "execution_count": 4,
      "metadata": {
        "id": "r34UmLeEtUcT"
      },
      "outputs": [],
      "source": [
        "# Seleção por torneio\n",
        "# population: População atual\n",
        "# sizek: tamanho do torneio\n",
        "def selection(population, sizeK):\n",
        "\t# seleciona um individuo aleatorio\n",
        "\tselection_ix = randint(len(population))\n",
        "\tfor ix in randint(0, len(population), sizeK-1):\n",
        "\t\t# check if better (e.g. perform a tournament)\n",
        "\t\tif population[ix][1] > population[selection_ix][1]:\n",
        "\t\t\tselection_ix = ix\n",
        "\treturn population[selection_ix][0]"
      ]
    },
    {
      "cell_type": "code",
      "execution_count": 5,
      "metadata": {
        "id": "gEXuASALtYpR"
      },
      "outputs": [],
      "source": [
        "#Cruzamento de 1 ponto aleatório\n",
        "# p1 e p2: dois individuos da população\n",
        "# r_cross: Taxa de cruzamento\n",
        "def crossover(p1, p2, r_cross):\n",
        "\t#fazer uma copia dos pais(p1 e p2) para os filhos (c1 e c2)\n",
        "\tc1, c2 = p1.copy(), p2.copy()\n",
        "\t#aplicar probabilidade (caso r_cross = 0.9 -> 90% chance)\n",
        "\tif rand() < r_cross:\n",
        "\t\t#selecionar uma coluna (que não seja a ultima) para fazer a troca\n",
        "\t\tpt = randint(1, (len(p1)-1))\t\t\n",
        "\t\t#realiza o cruzamento\n",
        "\t\tc1 = p1[:pt] + p2[pt:]\n",
        "\t\tc2 = p2[:pt] + p1[pt:]\n",
        "\treturn [c1, c2]"
      ]
    },
    {
      "cell_type": "code",
      "execution_count": 6,
      "metadata": {
        "id": "RrMO8YKB08Nt"
      },
      "outputs": [],
      "source": [
        "# Mutação da posição de uma rainha\n",
        "# individual: Um cromossomo qualquer da população\n",
        "# r_mut: Taxa de mutação\n",
        "def mutation(individual, r_mut): \n",
        "  for i in range(len(individual)):\n",
        "    #possibilidade de fazer a mutação (se r_mut = 0.2 -> 20% de chance)\n",
        "    if rand() < r_mut:\n",
        "      #MUDAR DE POSIÇÃO UMA RAINHA\n",
        "      individual[i] = random.randint(1, len(individual))"
      ]
    },
    {
      "cell_type": "code",
      "execution_count": 7,
      "metadata": {
        "id": "p5XyPUaH1L4D"
      },
      "outputs": [],
      "source": [
        "# Elitismo\n",
        "#pop: População atual\n",
        "#best_ind: Melhores individuos selecionados \n",
        "\n",
        "def elitism(pop, best_ind):\n",
        "  #calcular quantos ataques por individuo\n",
        "  scores = [fitness(p) for p in pop]\n",
        "\t#zipar a população com seu score\n",
        "  newPop = []\n",
        "  for i in zip(pop,scores):\n",
        "      newPop.append(list(i))\n",
        "\n",
        "  #juntar a população atual com os melhores individuos salvos anteriormente\n",
        "  newPop = newPop + best_ind\n",
        "  #reorganizar a população pelo seu score (do maior para o menor)\n",
        "  newPop.sort(key = lambda newPop: newPop[:][1], reverse = True)\n",
        "  #remover os x piores individuos\n",
        "  #(x será o tamanho de individuos que a função best_ind vai \"guardar\")\n",
        "  newPop = newPop[:-(len(best_ind))]\n",
        "  #Limpa a população para poder receber a nova população sem seu score\n",
        "  pop.clear() \n",
        "  for i in newPop:\n",
        "    pop.append(i[0])  \n",
        "  return pop"
      ]
    },
    {
      "cell_type": "code",
      "execution_count": 8,
      "metadata": {
        "id": "wELX3qb9WN4c"
      },
      "outputs": [],
      "source": [
        "#Guardar os x melhores individuos da população, sendo x = sizeInd\n",
        "def saveBestInd(pop,sizeInd):\n",
        "  copyBest = [] #armazena os melhores individuos\n",
        "  pop.sort(key = lambda pop: pop[:][1], reverse=True)\n",
        "  copyBest = pop[:sizeInd].copy()\n",
        "  return copyBest"
      ]
    },
    {
      "cell_type": "code",
      "execution_count": 9,
      "metadata": {
        "id": "RBlFyCwCV4Wa"
      },
      "outputs": [],
      "source": [
        "#Mostra qual é a melhor solução da população no momento\n",
        "def bestSolution(pop):\n",
        "    pop.sort(key = lambda pop: pop[:][1], reverse=True)\n",
        "    return pop[0][0],pop[0][1]"
      ]
    },
    {
      "cell_type": "code",
      "execution_count": 131,
      "metadata": {
        "id": "ZsVws20_tasB"
      },
      "outputs": [],
      "source": [
        "# Poderá ser utlizado qualquer quantidade de parâmetros\n",
        "def genetic_algorithm(nqueens, n_iter, tam_pop, r_cross, r_mut, k, sizeBestInd, optimalSol):\n",
        "\t# Pop: data structure used:\n",
        "\t##### index [0] -> posição da linha (0,nqueens)\n",
        "\t##### index [1] -> score\n",
        "\t\n",
        "\tpop = [] #armazenar a população\n",
        "\tbestInd = [] #guardar os melhores indviduos (elitismo)\n",
        "\n",
        "  #Criar população inicial\n",
        "\ttempPop = [random_chromosome(nqueens) for _ in range(tam_pop)]\t\n",
        "\t\n",
        "\t#enumerar as gerações até o maximo de iterações(n_iter)\n",
        "\tfor gen in range(n_iter):\n",
        "\t\t\t#calcular quantos ataques por individuo\n",
        "\t\t\tscores = [fitness(p) for p in tempPop]\n",
        "\t\t\t#zipar a população com seu score \n",
        "\t\t\tfor i in zip(tempPop,scores):\n",
        "\t\t\t\tpop.append(list(i))\n",
        "\n",
        "      #apresentar qual é a melhor solução da geração atual\n",
        "\t\t\tind, best_eval = bestSolution(pop)\n",
        "\t\t\tprint(\"Geração: \",gen,\" Ind: \",ind,\" Fit: \",best_eval)\n",
        "\t\t\t#comparar melhor solução atual com a solução otima \n",
        "\t\t\t#(caso for a melhor solução possivel, apresenta a geração e a solução e da um break)\n",
        "\t\t\tif best_eval == optimalSol:\n",
        "\t\t\t\tprint(\">>>>>> Melhor solução geração: %d\" % gen)\n",
        "\t\t\t\tprint(\">>>>>> \",ind,\" - \",best_eval)\n",
        "\t\t\t\tbreak\t\t\t\n",
        "\t\t\t#Salvar os melhores x individuos da população (ELITISMO)\n",
        "\t\t\t#(x = sizeBestInd)\n",
        "\t\t\tbestInd = saveBestInd(pop, sizeBestInd)\t\t\t\t\t\n",
        "\t\t\t\n",
        "\t\t\t#realizar o torneio\n",
        "\t\t\tselected = [selection(pop, k) for _ in range(tam_pop)]\n",
        "\n",
        "\t\t\t#criar nova geração\n",
        "\t\t\tchildren = []\n",
        "\t\t\t#limpar população\n",
        "\t\t\tpop.clear()\n",
        "\t\t\tfor i in range(0, tam_pop, 2):\n",
        "\t\t\t\t#selecionar os pais em pares\n",
        "\t\t\t\tp1, p2 = selected[i], selected[i+1]\t\t\t\t\n",
        "\t\t\t\t#realizar o crossover\n",
        "\t\t\t\tfor c in crossover(p1, p2, r_cross):\n",
        "\t\t\t\t\t#realizar a mutação\n",
        "\t\t\t\t\tmutation(c, r_mut)\n",
        "\t\t\t\t\t#guarda na nova população\n",
        "\t\t\t\t\tchildren.append(c)\n",
        "\t\t \n",
        "\t\t\t#salva a população em tempPop\n",
        "\t\t\ttempPop = children\n",
        "\t\t\t#ELITISMO\n",
        "\t\t\ttempPop = elitism(tempPop, bestInd)\t\t\t\n",
        "\treturn tempPop "
      ]
    },
    {
      "cell_type": "code",
      "execution_count": 11,
      "metadata": {
        "id": "RXNzemCutdEB"
      },
      "outputs": [],
      "source": [
        "def print_population(pop):\n",
        "    print(\"--------------------------População final--------------------------\")\n",
        "    for i in pop:\n",
        "      print(\"Cromossomo: \",i[0],\" - Fit: \",i[1])"
      ]
    },
    {
      "cell_type": "code",
      "execution_count": 132,
      "metadata": {
        "colab": {
          "base_uri": "https://localhost:8080/"
        },
        "id": "U6Us9KXTtewj",
        "outputId": "1256245d-d02e-4ad8-d783-a18dafd37a97"
      },
      "outputs": [
        {
          "name": "stdout",
          "output_type": "stream",
          "text": [
            "----------- Solução otima =  10.0  -----------\n",
            "Geração:  0  Ind:  [5, 1, 4, 2, 2]  Fit:  7.0\n",
            "Geração:  1  Ind:  [5, 3, 4, 1, 5]  Fit:  7.0\n",
            "Geração:  2  Ind:  [5, 1, 4, 1, 5]  Fit:  8.0\n",
            "Geração:  3  Ind:  [5, 1, 1, 4, 2]  Fit:  9.0\n",
            "Geração:  4  Ind:  [5, 1, 1, 4, 2]  Fit:  9.0\n",
            "Geração:  5  Ind:  [5, 1, 1, 4, 2]  Fit:  9.0\n",
            "Geração:  6  Ind:  [5, 1, 1, 4, 2]  Fit:  9.0\n",
            "Geração:  7  Ind:  [5, 1, 1, 4, 2]  Fit:  9.0\n",
            "Geração:  8  Ind:  [5, 1, 1, 4, 2]  Fit:  9.0\n",
            "Geração:  9  Ind:  [5, 1, 1, 4, 2]  Fit:  9.0\n",
            "Geração:  10  Ind:  [5, 1, 1, 4, 2]  Fit:  9.0\n",
            "Geração:  11  Ind:  [5, 3, 1, 4, 2]  Fit:  10.0\n",
            ">>>>>> Melhor solução geração: 11\n",
            ">>>>>>  [5, 3, 1, 4, 2]  -  10.0\n",
            "--------------------------População final--------------------------\n",
            "Cromossomo:  [5, 3, 1, 4, 2]  - Fit:  10.0\n",
            "Cromossomo:  [5, 1, 1, 4, 2]  - Fit:  9.0\n",
            "Cromossomo:  [5, 1, 1, 4, 2]  - Fit:  9.0\n",
            "Cromossomo:  [5, 1, 1, 4, 2]  - Fit:  9.0\n",
            "Cromossomo:  [5, 1, 1, 4, 2]  - Fit:  9.0\n",
            "Cromossomo:  [5, 1, 1, 4, 2]  - Fit:  9.0\n",
            "Cromossomo:  [5, 1, 1, 4, 2]  - Fit:  9.0\n",
            "Cromossomo:  [5, 1, 1, 4, 2]  - Fit:  9.0\n",
            "Cromossomo:  [5, 3, 1, 5, 4]  - Fit:  7.0\n",
            "Cromossomo:  [5, 1, 1, 4, 1]  - Fit:  6.0\n"
          ]
        }
      ],
      "source": [
        "#PARÂMETROS BASE\n",
        "tam_pop = 10\n",
        "nqueens = 5\n",
        "n_iter = 50\n",
        "\n",
        "#POSSIBILIDADE DE PARÂMETROS PARA 8 RAINHAS\n",
        "#tam_pop = 10\n",
        "#nqueens = 8\n",
        "#n_iter = 60\n",
        "\n",
        "#POSSIBILIDADE DE ACONTECER CROSS\n",
        "r_cross = 0.9\n",
        "\n",
        "#POSSIBILIDADE DE ACONTECER MUTAÇÃO \n",
        "r_mut = 0.2\n",
        "\n",
        "#TAMANHO DO TORNEIO\n",
        "k = 3\n",
        "\n",
        "#POPULAÇÃO NOVA \n",
        "newPop = []\n",
        "\n",
        "#QUANTIDADE DE VALORES QUE SERÃO ARMAZENADOS (ELITISMO)\n",
        "sizeBestInd = 2\n",
        "optimalSol = nqueens * (nqueens-1)/2\n",
        "print(\"----------- Solução otima = \", optimalSol, \" -----------\")\n",
        "\n",
        "pop = genetic_algorithm(nqueens, n_iter, tam_pop, r_cross, r_mut, k, sizeBestInd, optimalSol)\n",
        "fit = [fitness(chrom) for chrom in pop]\n",
        "for i in zip(pop,fit):\n",
        "  newPop.append(list(i))\n",
        "\n",
        "print_population(newPop)  \n"
      ]
    },
    {
      "cell_type": "code",
      "execution_count": 123,
      "metadata": {
        "colab": {
          "base_uri": "https://localhost:8080/"
        },
        "id": "ggIIfvBIz50Q",
        "outputId": "adfb99a7-ff05-475a-e83c-6ee26269ce33"
      },
      "outputs": [
        {
          "name": "stdout",
          "output_type": "stream",
          "text": [
            "----------- Solução otima =  45.0  -----------\n",
            "Geração:  0  Ind:  [7, 1, 4, 2, 8, 8, 3, 2, 5, 10]  Fit:  40.0\n",
            "Geração:  1  Ind:  [10, 1, 4, 10, 7, 9, 5, 8, 5, 3]  Fit:  41.0\n",
            "Geração:  2  Ind:  [10, 1, 4, 10, 7, 9, 5, 8, 5, 3]  Fit:  41.0\n",
            "Geração:  3  Ind:  [6, 9, 2, 10, 3, 5, 8, 1, 3, 6]  Fit:  41.0\n",
            "Geração:  4  Ind:  [3, 7, 2, 10, 5, 9, 8, 10, 3, 6]  Fit:  41.0\n",
            "Geração:  5  Ind:  [3, 1, 4, 10, 1, 6, 2, 9, 6, 8]  Fit:  42.0\n",
            "Geração:  6  Ind:  [3, 9, 4, 10, 1, 9, 2, 8, 2, 7]  Fit:  42.0\n",
            "Geração:  7  Ind:  [3, 9, 4, 10, 1, 9, 2, 8, 2, 7]  Fit:  42.0\n",
            "Geração:  8  Ind:  [3, 9, 4, 10, 1, 9, 2, 8, 2, 7]  Fit:  42.0\n",
            "Geração:  9  Ind:  [1, 9, 6, 9, 2, 10, 4, 7, 5, 8]  Fit:  42.0\n",
            "Geração:  10  Ind:  [3, 7, 2, 10, 5, 9, 8, 4, 9, 1]  Fit:  42.0\n",
            "Geração:  11  Ind:  [1, 9, 6, 9, 2, 10, 4, 7, 5, 8]  Fit:  42.0\n",
            "Geração:  12  Ind:  [3, 1, 4, 10, 1, 9, 2, 8, 2, 7]  Fit:  43.0\n",
            "Geração:  13  Ind:  [3, 1, 4, 10, 1, 9, 2, 8, 2, 7]  Fit:  43.0\n",
            "Geração:  14  Ind:  [3, 1, 4, 10, 1, 9, 2, 8, 2, 7]  Fit:  43.0\n",
            "Geração:  15  Ind:  [3, 1, 4, 10, 1, 9, 2, 8, 2, 7]  Fit:  43.0\n",
            "Geração:  16  Ind:  [3, 1, 4, 10, 1, 9, 2, 8, 2, 7]  Fit:  43.0\n",
            "Geração:  17  Ind:  [3, 9, 4, 10, 1, 9, 2, 8, 3, 7]  Fit:  43.0\n",
            "Geração:  18  Ind:  [3, 9, 4, 10, 1, 9, 2, 8, 3, 7]  Fit:  43.0\n",
            "Geração:  19  Ind:  [3, 9, 4, 10, 1, 9, 2, 8, 3, 7]  Fit:  43.0\n",
            "Geração:  20  Ind:  [3, 9, 4, 10, 1, 9, 2, 8, 3, 7]  Fit:  43.0\n",
            "Geração:  21  Ind:  [3, 9, 4, 10, 1, 9, 2, 8, 3, 7]  Fit:  43.0\n",
            "Geração:  22  Ind:  [3, 9, 4, 10, 1, 9, 2, 8, 3, 7]  Fit:  43.0\n",
            "Geração:  23  Ind:  [3, 6, 4, 10, 1, 9, 2, 8, 3, 7]  Fit:  44.0\n",
            "Geração:  24  Ind:  [3, 6, 4, 10, 1, 9, 2, 8, 3, 7]  Fit:  44.0\n",
            "Geração:  25  Ind:  [6, 3, 5, 10, 1, 9, 2, 8, 3, 7]  Fit:  44.0\n",
            "Geração:  26  Ind:  [6, 3, 5, 10, 1, 9, 2, 8, 1, 7]  Fit:  44.0\n",
            "Geração:  27  Ind:  [6, 3, 5, 10, 1, 9, 2, 8, 1, 7]  Fit:  44.0\n",
            "Geração:  28  Ind:  [6, 3, 5, 10, 1, 9, 2, 8, 1, 7]  Fit:  44.0\n",
            "Geração:  29  Ind:  [6, 3, 5, 10, 1, 9, 2, 8, 1, 7]  Fit:  44.0\n",
            "Geração:  30  Ind:  [6, 3, 5, 10, 1, 9, 2, 8, 1, 7]  Fit:  44.0\n",
            "Geração:  31  Ind:  [6, 3, 5, 10, 1, 9, 2, 8, 1, 7]  Fit:  44.0\n",
            "Geração:  32  Ind:  [6, 3, 5, 10, 1, 9, 2, 8, 2, 7]  Fit:  44.0\n",
            "Geração:  33  Ind:  [6, 3, 5, 10, 1, 9, 2, 8, 2, 7]  Fit:  44.0\n",
            "Geração:  34  Ind:  [6, 3, 5, 10, 1, 9, 2, 8, 2, 7]  Fit:  44.0\n",
            "Geração:  35  Ind:  [3, 6, 4, 10, 1, 9, 2, 8, 1, 7]  Fit:  44.0\n",
            "Geração:  36  Ind:  [3, 6, 4, 10, 1, 9, 2, 8, 2, 7]  Fit:  44.0\n",
            "Geração:  37  Ind:  [3, 6, 4, 10, 1, 9, 2, 8, 3, 7]  Fit:  44.0\n",
            "Geração:  38  Ind:  [3, 6, 4, 10, 1, 9, 2, 8, 3, 7]  Fit:  44.0\n",
            "Geração:  39  Ind:  [6, 3, 5, 10, 1, 9, 2, 8, 2, 7]  Fit:  44.0\n",
            "Geração:  40  Ind:  [6, 3, 5, 10, 1, 9, 2, 8, 2, 7]  Fit:  44.0\n",
            "Geração:  41  Ind:  [6, 3, 5, 10, 1, 9, 2, 8, 2, 7]  Fit:  44.0\n",
            "Geração:  42  Ind:  [3, 6, 4, 10, 1, 9, 5, 8, 2, 7]  Fit:  45.0\n",
            ">>>>>> Melhor solução geração: 42\n",
            ">>>>>>  [3, 6, 4, 10, 1, 9, 5, 8, 2, 7]  -  45.0\n"
          ]
        }
      ],
      "source": [
        "#geração 42 -> aleatorio\n",
        "tam_pop = 100\n",
        "nqueens = 10\n",
        "n_iter = 50\n",
        "r_cross = 0.9\n",
        "r_mut = 0.3\n",
        "k = 3\n",
        "sizeBestInd = 5\n",
        "newPop = []\n",
        "optimalSol = nqueens * (nqueens-1)/2\n",
        "print(\"----------- Solução otima = \", optimalSol, \" -----------\")\n",
        "\n",
        "pop = genetic_algorithm(nqueens, n_iter, tam_pop, r_cross, r_mut, k, sizeBestInd, optimalSol)\n",
        "fit = [fitness(chrom) for chrom in pop]\n",
        "for i in zip(pop,fit):\n",
        "  newPop.append(list(i))\n",
        "#print_population(newPop)  "
      ]
    },
    {
      "cell_type": "code",
      "execution_count": null,
      "metadata": {
        "id": "znCQRSbg2U0Q"
      },
      "outputs": [],
      "source": []
    }
  ],
  "metadata": {
    "colab": {
      "provenance": []
    },
    "kernelspec": {
      "display_name": "Python 3",
      "name": "python3"
    },
    "language_info": {
      "name": "python"
    }
  },
  "nbformat": 4,
  "nbformat_minor": 0
}
